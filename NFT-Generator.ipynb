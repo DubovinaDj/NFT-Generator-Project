{
 "cells": [
  {
   "cell_type": "code",
   "execution_count": 1,
   "id": "e2d6ef1e",
   "metadata": {},
   "outputs": [],
   "source": [
    "from PIL import Image \n",
    "from IPython.display import display \n",
    "import random\n",
    "import json\n",
    "\n",
    "import time\n",
    "from datetime import datetime"
   ]
  },
  {
   "cell_type": "code",
   "execution_count": 45,
   "id": "f87380c8",
   "metadata": {},
   "outputs": [],
   "source": [
    "# Inject all the shapes and set their weights\n",
    "\n",
    "# Each image is made up a series of traits\n",
    "# The weightings for each trait drive the rarity and add up to 100%\n",
    "\n",
    "background = [\"Blue\", \"Orange\", \"Red\", \"Pink\", \"Green\", \"White\"] \n",
    "background_weights = [30, 15, 10, 25, 17, 3]\n",
    "\n",
    "head = [\"Head\"] \n",
    "head_weights = [100]\n",
    "\n",
    "eyes = [\"first\", \"second\", \"third\", \"fourth\", \"fifth\"]\n",
    "eyes_weights = [10, 20, 30, 30, 10 ]\n",
    "\n",
    "mouth = [\"first\", \"second\", \"third\", \"fourth\", \"fifth\"]\n",
    "mouth_weights = [20, 30, 10, 10, 30]\n",
    "\n",
    "ear = [\"first\", \"second\", \"third\"]\n",
    "ear_weights = [50, 20, 30]\n",
    "\n",
    "# Dictionary variable for each trait. \n",
    "# Eech trait corresponds to its file name\n",
    "# Add more shapes and colours as you wish\n",
    "\n",
    "background_files = {\n",
    "    \"Blue\": \"blue\",\n",
    "    \"Orange\": \"orange\",\n",
    "    \"Red\": \"red\",\n",
    "    \"Pink\": \"pink\",\n",
    "    \"Green\": \"green\",\n",
    "    \"White\": \"white\"\n",
    "}\n",
    "\n",
    "head_files = {\n",
    "    \"Head\": \"head\"\n",
    "}\n",
    "\n",
    "eyes_files = {\n",
    "    \"first\": \"e1\",\n",
    "    \"second\": \"e2\",\n",
    "    \"third\": \"e3\",\n",
    "    \"fourth\": \"e4\",\n",
    "    \"fifth\": \"e5\"\n",
    "}\n",
    "\n",
    "mouth_files = {\n",
    "    \"first\": \"m1\",\n",
    "    \"second\": \"m2\",\n",
    "    \"third\": \"m3\",\n",
    "    \"fourth\": \"m4\",\n",
    "    \"fifth\": \"m5\"\n",
    "}\n",
    "\n",
    "ear_files = {\n",
    "    \"first\": \"er1\",\n",
    "    \"second\": \"er2\",\n",
    "    \"third\": \"er3\"\n",
    "}"
   ]
  },
  {
   "cell_type": "code",
   "execution_count": 46,
   "id": "a1785f5d",
   "metadata": {},
   "outputs": [],
   "source": [
    "# Create a function to generate unique image combinations\n",
    "\n",
    "TOTAL_IMAGES = 40 # Number of random unique images we want to generate ( 2 x 2 x 2 = 8)\n",
    "\n",
    "all_images = []\n",
    "\n",
    "def create_new_image():\n",
    "    \n",
    "    new_image = {}\n",
    "    \n",
    "    # For each trait category, select a random trait based on the weightings \n",
    "    new_image [\"Background\"] = random.choices(background, background_weights)[0]\n",
    "    new_image [\"Head\"] = random.choices(head, head_weights)[0]\n",
    "    new_image [\"Eyes\"] = random.choices(eyes, eyes_weights)[0]\n",
    "    new_image [\"Mouth\"] = random.choices(mouth, mouth_weights)[0]\n",
    "    new_image [\"Ear\"] = random.choices(ear, ear_weights)[0]\n",
    "    \n",
    "    if new_image in all_images:\n",
    "        return create_new_image()\n",
    "    else:\n",
    "        return new_image\n",
    "    \n",
    "\n",
    "# Generate the unique combinations based on trait weightings  \n",
    "for i in range(TOTAL_IMAGES):\n",
    "    new_trait_image = create_new_image()\n",
    "    all_images.append(new_trait_image)"
   ]
  },
  {
   "cell_type": "code",
   "execution_count": 47,
   "id": "bf5c1b82",
   "metadata": {},
   "outputs": [
    {
     "name": "stdout",
     "output_type": "stream",
     "text": [
      "Are all images unique? True\n"
     ]
    }
   ],
   "source": [
    "# Return if all images are unique\n",
    "\n",
    "def all_images_unique(all_images):\n",
    "    seen = list()\n",
    "    return not any(i in seen or seen.append(i) for i in all_images)\n",
    "\n",
    "print (\"Are all images unique?\", all_images_unique(all_images))"
   ]
  },
  {
   "cell_type": "code",
   "execution_count": 48,
   "id": "5e350c4f",
   "metadata": {},
   "outputs": [],
   "source": [
    "# Add token Id to each image\n",
    "\n",
    "i = 0\n",
    "for item in all_images:\n",
    "    item[\"tokenId\"] = i\n",
    "    i = i + 1"
   ]
  },
  {
   "cell_type": "code",
   "execution_count": 49,
   "id": "5578583a",
   "metadata": {},
   "outputs": [
    {
     "name": "stdout",
     "output_type": "stream",
     "text": [
      "[{'Background': 'Green', 'Head': 'Head', 'Eyes': 'fourth', 'Mouth': 'second', 'Ear': 'second', 'tokenId': 0}, {'Background': 'Green', 'Head': 'Head', 'Eyes': 'fourth', 'Mouth': 'fifth', 'Ear': 'second', 'tokenId': 1}, {'Background': 'Green', 'Head': 'Head', 'Eyes': 'third', 'Mouth': 'fourth', 'Ear': 'first', 'tokenId': 2}, {'Background': 'Pink', 'Head': 'Head', 'Eyes': 'first', 'Mouth': 'third', 'Ear': 'first', 'tokenId': 3}, {'Background': 'Red', 'Head': 'Head', 'Eyes': 'second', 'Mouth': 'second', 'Ear': 'third', 'tokenId': 4}, {'Background': 'Orange', 'Head': 'Head', 'Eyes': 'fourth', 'Mouth': 'fourth', 'Ear': 'third', 'tokenId': 5}, {'Background': 'Blue', 'Head': 'Head', 'Eyes': 'fourth', 'Mouth': 'first', 'Ear': 'second', 'tokenId': 6}, {'Background': 'Red', 'Head': 'Head', 'Eyes': 'fourth', 'Mouth': 'fifth', 'Ear': 'first', 'tokenId': 7}, {'Background': 'Pink', 'Head': 'Head', 'Eyes': 'third', 'Mouth': 'third', 'Ear': 'first', 'tokenId': 8}, {'Background': 'Orange', 'Head': 'Head', 'Eyes': 'second', 'Mouth': 'first', 'Ear': 'third', 'tokenId': 9}, {'Background': 'Red', 'Head': 'Head', 'Eyes': 'second', 'Mouth': 'second', 'Ear': 'second', 'tokenId': 10}, {'Background': 'Red', 'Head': 'Head', 'Eyes': 'third', 'Mouth': 'first', 'Ear': 'second', 'tokenId': 11}, {'Background': 'Blue', 'Head': 'Head', 'Eyes': 'second', 'Mouth': 'fourth', 'Ear': 'third', 'tokenId': 12}, {'Background': 'Red', 'Head': 'Head', 'Eyes': 'second', 'Mouth': 'first', 'Ear': 'first', 'tokenId': 13}, {'Background': 'Red', 'Head': 'Head', 'Eyes': 'fourth', 'Mouth': 'first', 'Ear': 'third', 'tokenId': 14}, {'Background': 'Orange', 'Head': 'Head', 'Eyes': 'fourth', 'Mouth': 'fourth', 'Ear': 'first', 'tokenId': 15}, {'Background': 'Orange', 'Head': 'Head', 'Eyes': 'fourth', 'Mouth': 'second', 'Ear': 'first', 'tokenId': 16}, {'Background': 'Pink', 'Head': 'Head', 'Eyes': 'fourth', 'Mouth': 'fifth', 'Ear': 'first', 'tokenId': 17}, {'Background': 'White', 'Head': 'Head', 'Eyes': 'second', 'Mouth': 'first', 'Ear': 'first', 'tokenId': 18}, {'Background': 'Blue', 'Head': 'Head', 'Eyes': 'third', 'Mouth': 'fifth', 'Ear': 'first', 'tokenId': 19}, {'Background': 'Orange', 'Head': 'Head', 'Eyes': 'fifth', 'Mouth': 'fifth', 'Ear': 'first', 'tokenId': 20}, {'Background': 'Orange', 'Head': 'Head', 'Eyes': 'fifth', 'Mouth': 'third', 'Ear': 'first', 'tokenId': 21}, {'Background': 'Blue', 'Head': 'Head', 'Eyes': 'second', 'Mouth': 'second', 'Ear': 'second', 'tokenId': 22}, {'Background': 'Blue', 'Head': 'Head', 'Eyes': 'second', 'Mouth': 'second', 'Ear': 'first', 'tokenId': 23}, {'Background': 'Blue', 'Head': 'Head', 'Eyes': 'second', 'Mouth': 'second', 'Ear': 'third', 'tokenId': 24}, {'Background': 'Pink', 'Head': 'Head', 'Eyes': 'fifth', 'Mouth': 'fifth', 'Ear': 'first', 'tokenId': 25}, {'Background': 'Orange', 'Head': 'Head', 'Eyes': 'fourth', 'Mouth': 'fifth', 'Ear': 'first', 'tokenId': 26}, {'Background': 'Blue', 'Head': 'Head', 'Eyes': 'third', 'Mouth': 'second', 'Ear': 'first', 'tokenId': 27}, {'Background': 'Red', 'Head': 'Head', 'Eyes': 'first', 'Mouth': 'fourth', 'Ear': 'third', 'tokenId': 28}, {'Background': 'Pink', 'Head': 'Head', 'Eyes': 'third', 'Mouth': 'fifth', 'Ear': 'second', 'tokenId': 29}, {'Background': 'Blue', 'Head': 'Head', 'Eyes': 'fourth', 'Mouth': 'fifth', 'Ear': 'third', 'tokenId': 30}, {'Background': 'Orange', 'Head': 'Head', 'Eyes': 'third', 'Mouth': 'second', 'Ear': 'first', 'tokenId': 31}, {'Background': 'Orange', 'Head': 'Head', 'Eyes': 'third', 'Mouth': 'fourth', 'Ear': 'third', 'tokenId': 32}, {'Background': 'Green', 'Head': 'Head', 'Eyes': 'fourth', 'Mouth': 'second', 'Ear': 'first', 'tokenId': 33}, {'Background': 'Green', 'Head': 'Head', 'Eyes': 'third', 'Mouth': 'fifth', 'Ear': 'first', 'tokenId': 34}, {'Background': 'Orange', 'Head': 'Head', 'Eyes': 'second', 'Mouth': 'fifth', 'Ear': 'first', 'tokenId': 35}, {'Background': 'Orange', 'Head': 'Head', 'Eyes': 'third', 'Mouth': 'fifth', 'Ear': 'second', 'tokenId': 36}, {'Background': 'Orange', 'Head': 'Head', 'Eyes': 'third', 'Mouth': 'second', 'Ear': 'third', 'tokenId': 37}, {'Background': 'Red', 'Head': 'Head', 'Eyes': 'fourth', 'Mouth': 'fifth', 'Ear': 'third', 'tokenId': 38}, {'Background': 'Blue', 'Head': 'Head', 'Eyes': 'second', 'Mouth': 'third', 'Ear': 'first', 'tokenId': 39}]\n"
     ]
    }
   ],
   "source": [
    "# Print all images\n",
    "\n",
    "print(all_images)"
   ]
  },
  {
   "cell_type": "code",
   "execution_count": 50,
   "id": "15433963",
   "metadata": {},
   "outputs": [
    {
     "name": "stdout",
     "output_type": "stream",
     "text": [
      "{'Blue': 9, 'Orange': 12, 'Red': 8, 'Pink': 5, 'Green': 5, 'White': 1}\n",
      "{'Head': 40}\n",
      "{'first': 2, 'second': 11, 'third': 11, 'fourth': 13, 'fifth': 3}\n",
      "{'first': 6, 'second': 11, 'third': 4, 'fourth': 6, 'fifth': 13}\n",
      "{'first': 21, 'second': 8, 'third': 11, 'fourth': 0, 'fifth': 0}\n"
     ]
    }
   ],
   "source": [
    "background_count = {}\n",
    "for item in background:\n",
    "    background_count[item] = 0\n",
    "    \n",
    "head_count = {}\n",
    "for item in head:\n",
    "    head_count[item] = 0\n",
    "    \n",
    "eyes_count = {}\n",
    "for item in eyes:\n",
    "    eyes_count[item] = 0\n",
    "    \n",
    "mouth_count = {}\n",
    "for item in eyes:\n",
    "    mouth_count[item] = 0\n",
    "    \n",
    "ear_count = {}\n",
    "for item in eyes:\n",
    "    ear_count[item] = 0\n",
    "\n",
    "for image in all_images:\n",
    "    background_count[image[\"Background\"]] += 1\n",
    "    head_count[image[\"Head\"]] += 1\n",
    "    eyes_count[image[\"Eyes\"]] += 1\n",
    "    mouth_count[image[\"Mouth\"]] += 1\n",
    "    ear_count[image[\"Ear\"]] += 1\n",
    "    \n",
    "\n",
    "print(background_count)\n",
    "print(head_count)\n",
    "print(eyes_count)\n",
    "print(mouth_count)\n",
    "print(ear_count)"
   ]
  },
  {
   "cell_type": "code",
   "execution_count": 51,
   "id": "ac349706",
   "metadata": {},
   "outputs": [],
   "source": [
    "# Generate metadata for all Traits\n",
    "\n",
    "METADATA_FILE_NAME = './metadata/nftColVol2.json';\n",
    "with open(METADATA_FILE_NAME, \"w\") as outfile:\n",
    "    json.dump(all_images, outfile, indent=4)"
   ]
  },
  {
   "cell_type": "code",
   "execution_count": 52,
   "id": "312b8f97",
   "metadata": {},
   "outputs": [],
   "source": [
    "# Generate Images\n",
    "\n",
    "for item in all_images:\n",
    "    \n",
    "    im1 = Image.open(f'./images/backgrounds/{background_files[item[\"Background\"]]}.png').convert('RGBA')\n",
    "    im2 = Image.open(f'./images/head/{head_files[item[\"Head\"]]}.png').convert('RGBA')\n",
    "    im3 = Image.open(f'./images/eyes/{eyes_files[item[\"Eyes\"]]}.png').convert('RGBA')\n",
    "    im4 = Image.open(f'./images/mouth/{mouth_files[item[\"Mouth\"]]}.png').convert('RGBA')\n",
    "    im5 = Image.open(f'./images/ear/{ear_files[item[\"Ear\"]]}.png').convert('RGBA')\n",
    "    \n",
    "    \n",
    "    # Create each composite\n",
    "    com1 = Image.alpha_composite(im1, im2)\n",
    "    com2 = Image.alpha_composite(com1, im3)\n",
    "    com3 = Image.alpha_composite(com2, im4)\n",
    "    com4 = Image.alpha_composite(com3, im5)\n",
    "    \n",
    "    \n",
    "    # Conver to RGB\n",
    "    rgb_im = com4.convert('RGB')\n",
    "    file_name = str(item[\"tokenId\"]) + \".png\"\n",
    "    rgb_im.save(\"images/\" + file_name)"
   ]
  },
  {
   "cell_type": "code",
   "execution_count": 101,
   "id": "8cc623dc",
   "metadata": {},
   "outputs": [],
   "source": [
    "f = open('./metadata/nftColVol2.json',) \n",
    "data = json.load(f)\n",
    "\n",
    "IMAGES_BASE_URI = \"ipfs://QmeUNiY1RMLm15bMQLF32k8NytgyAFrasSX2r6PFmGWoso/\"\n",
    "PROJECT_NAME = \"Ancient ETH Apes (AETHA)\"\n",
    "\n",
    "def getAttribute(key, value):\n",
    "    return {\n",
    "        \"trait_type\": key,\n",
    "        \"value\": value\n",
    "    }\n",
    "for i in data:\n",
    "    token_id = i['tokenId']\n",
    "    token = {\n",
    "        \"image\": IMAGES_BASE_URI + str(token_id) + '.png',\n",
    "        \"tokenId\": token_id,\n",
    "        \"description\": \"collection 1\",\n",
    "        \"name\": PROJECT_NAME + ' ' + str(token_id),\n",
    "        \"date\": time.monotonic_ns(),\n",
    "        \"attributes\": []\n",
    "    }\n",
    "    \n",
    "    token[\"attributes\"].append(getAttribute(\"Background\", i[\"Background\"]))\n",
    "    token[\"attributes\"].append(getAttribute(\"Head\", i[\"Head\"]))\n",
    "    token[\"attributes\"].append(getAttribute(\"Eyes\", i[\"Eyes\"]))\n",
    "    token[\"attributes\"].append(getAttribute(\"Mouth\", i[\"Mouth\"]))\n",
    "    token[\"attributes\"].append(getAttribute(\"Ear\", i[\"Ear\"]))\n",
    "\n",
    "    with open('./metadata/' + str(token_id), 'w') as outfile:\n",
    "        json.dump(token, outfile, indent=4)\n",
    "f.close()"
   ]
  },
  {
   "cell_type": "code",
   "execution_count": 100,
   "id": "8d3f489a",
   "metadata": {},
   "outputs": [
    {
     "data": {
      "text/plain": [
       "'\\ndnas = []\\n\\nfor i in range(40):\\n    dna = {}\\n    for a in all_images:\\n        dna[a] = all_images[a][random.randint(0, len(all_images[a])-1)]\\n    dnas.append(dna)\\n'"
      ]
     },
     "execution_count": 100,
     "metadata": {},
     "output_type": "execute_result"
    }
   ],
   "source": [
    "'''\n",
    "dnas = []\n",
    "\n",
    "for i in range(40):\n",
    "    dna = {}\n",
    "    for a in all_images:\n",
    "        dna[a] = all_images[a][random.randint(0, len(all_images[a])-1)]\n",
    "    dnas.append(dna)\n",
    "'''\n"
   ]
  },
  {
   "cell_type": "code",
   "execution_count": null,
   "id": "d6891f0e",
   "metadata": {},
   "outputs": [],
   "source": []
  },
  {
   "cell_type": "code",
   "execution_count": null,
   "id": "30b6f93c",
   "metadata": {},
   "outputs": [],
   "source": []
  },
  {
   "cell_type": "code",
   "execution_count": null,
   "id": "1ec5b5ff",
   "metadata": {},
   "outputs": [],
   "source": []
  }
 ],
 "metadata": {
  "kernelspec": {
   "display_name": "Python 3 (ipykernel)",
   "language": "python",
   "name": "python3"
  },
  "language_info": {
   "codemirror_mode": {
    "name": "ipython",
    "version": 3
   },
   "file_extension": ".py",
   "mimetype": "text/x-python",
   "name": "python",
   "nbconvert_exporter": "python",
   "pygments_lexer": "ipython3",
   "version": "3.9.7"
  }
 },
 "nbformat": 4,
 "nbformat_minor": 5
}
